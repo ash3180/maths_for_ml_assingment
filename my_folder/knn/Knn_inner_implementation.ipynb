{
  "nbformat": 4,
  "nbformat_minor": 0,
  "metadata": {
    "colab": {
      "provenance": [],
      "authorship_tag": "ABX9TyNeteN9n+bCymlAIUtDCvuf",
      "include_colab_link": true
    },
    "kernelspec": {
      "name": "python3",
      "display_name": "Python 3"
    },
    "language_info": {
      "name": "python"
    }
  },
  "cells": [
    {
      "cell_type": "markdown",
      "metadata": {
        "id": "view-in-github",
        "colab_type": "text"
      },
      "source": [
        "<a href=\"https://colab.research.google.com/github/ash3180/maths_for_ml_assingment/blob/main/my_folder/knn/Knn_inner_implementation.ipynb\" target=\"_parent\"><img src=\"https://colab.research.google.com/assets/colab-badge.svg\" alt=\"Open In Colab\"/></a>"
      ]
    },
    {
      "cell_type": "code",
      "execution_count": null,
      "metadata": {
        "id": "SYV-CVHMYZyF"
      },
      "outputs": [],
      "source": [
        "import numpy as np\n",
        "from collections import Counter\n",
        "\n",
        "class Knn:\n",
        "\n",
        "    def __init__(self,k=5):\n",
        "        self.n_neighbors = k\n",
        "        self.X_train = None\n",
        "        self.y_train = None\n",
        "\n",
        "    def fit(self,X_train,y_train):\n",
        "        self.X_train = X_train\n",
        "        self.y_train = y_train\n",
        "\n",
        "    def predict(self,X_test):\n",
        "\n",
        "        y_pred = []\n",
        "\n",
        "        for i in X_test:\n",
        "            # calculate distance with each training point\n",
        "            distances = []\n",
        "            for j in self.X_train:\n",
        "                distances.append(self.calculate_distance(i,j))\n",
        "            n_neighbors = sorted(list(enumerate(distances)),key=lambda x:x[1])[0:self.n_neighbors]\n",
        "            label = self.majority_count(n_neighbors)\n",
        "            y_pred.append(label)\n",
        "        return np.array(y_pred)\n",
        "\n",
        "\n",
        "    def calculate_distance(self,point_A,point_B):\n",
        "        return np.linalg.norm(point_A - point_B)\n",
        "\n",
        "    def majority_count(self,neighbors):\n",
        "        votes = []\n",
        "        for i in neighbors:\n",
        "            votes.append(self.y_train[i[0]])\n",
        "        votes = Counter(votes)\n",
        "\n",
        "        return votes.most_common()[0][0]\n",
        "\n"
      ]
    }
  ]
}