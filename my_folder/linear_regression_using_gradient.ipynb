{
 "cells": [
  {
   "cell_type": "code",
   "execution_count": 8,
   "id": "38b9baf7-626e-4a5a-ae54-36636520bcd9",
   "metadata": {},
   "outputs": [],
   "source": [
    "import pandas as pd\n",
    "from sklearn.model_selection import train_test_split\n",
    "import matplotlib.pyplot as plt\n",
    "import numpy as np"
   ]
  },
  {
   "cell_type": "code",
   "execution_count": 89,
   "id": "154d175c-538b-4c4d-921a-03c87aee293d",
   "metadata": {},
   "outputs": [],
   "source": [
    "class Linear_Regression():\n",
    "\n",
    "   def __init__( self, learning_rate, epochs ) :\n",
    "          \n",
    "        self.learning_rate = learning_rate\n",
    "          \n",
    "        self.epochs = epochs\n",
    "\n",
    "    # fit function to train the model\n",
    "\n",
    "   def fit( self, X, Y ) :\n",
    "          \n",
    "        # no_of_training_examples, no_of_features\n",
    "        if X.ndim == 1:\n",
    "             # if 1D array\n",
    "            X = X.reshape(-1, 1)\n",
    "          \n",
    "        self.m, self.n = X.shape\n",
    "          \n",
    "        # initiating the weight and bias\n",
    "          \n",
    "        self.w = np.zeros( self.n )\n",
    "          \n",
    "        self.b = 0\n",
    "          \n",
    "        self.X = X\n",
    "          \n",
    "        self.Y = Y\n",
    "\n",
    "\n",
    "        # implementing Gradient Descent for Optimization\n",
    "                  \n",
    "        for i in range( self.epochs ) :\n",
    "              \n",
    "            self.update_weights()\n",
    "              \n",
    "        \n",
    "      \n",
    "    # function to update weights in gradient descent\n",
    "      \n",
    "   def update_weights( self ) :\n",
    "             \n",
    "        Y_prediction = self.predict( self.X )\n",
    "          \n",
    "        # calculate gradients  \n",
    "      \n",
    "        dw = - ( 2 * ( self.X.T ).dot( self.Y - Y_prediction )  ) / self.m\n",
    "       \n",
    "        db = - 2 * np.sum( self.Y - Y_prediction ) / self.m \n",
    "          \n",
    "        # updating the weights\n",
    "      \n",
    "        self.w = self.w - self.learning_rate * dw\n",
    "      \n",
    "        self.b = self.b - self.learning_rate * db\n",
    "          \n",
    "      \n",
    "    # Line function for prediction:\n",
    "      \n",
    "   def predict( self, X ):\n",
    "       \n",
    "        if X.ndim == 1:\n",
    "            \n",
    "             # if input is 1D\n",
    "             X = X.reshape(-1, 1)\n",
    "      \n",
    "        return X.dot( self.w ) + self.b"
   ]
  },
  {
   "cell_type": "code",
   "execution_count": 91,
   "id": "2897110b-ceba-4d13-8fc7-bb308ca72f22",
   "metadata": {},
   "outputs": [
    {
     "data": {
      "text/html": [
       "<div>\n",
       "<style scoped>\n",
       "    .dataframe tbody tr th:only-of-type {\n",
       "        vertical-align: middle;\n",
       "    }\n",
       "\n",
       "    .dataframe tbody tr th {\n",
       "        vertical-align: top;\n",
       "    }\n",
       "\n",
       "    .dataframe thead th {\n",
       "        text-align: right;\n",
       "    }\n",
       "</style>\n",
       "<table border=\"1\" class=\"dataframe\">\n",
       "  <thead>\n",
       "    <tr style=\"text-align: right;\">\n",
       "      <th></th>\n",
       "      <th>cgpa</th>\n",
       "      <th>package</th>\n",
       "    </tr>\n",
       "  </thead>\n",
       "  <tbody>\n",
       "    <tr>\n",
       "      <th>0</th>\n",
       "      <td>6.89</td>\n",
       "      <td>3.26</td>\n",
       "    </tr>\n",
       "    <tr>\n",
       "      <th>1</th>\n",
       "      <td>5.12</td>\n",
       "      <td>1.98</td>\n",
       "    </tr>\n",
       "    <tr>\n",
       "      <th>2</th>\n",
       "      <td>7.82</td>\n",
       "      <td>3.25</td>\n",
       "    </tr>\n",
       "    <tr>\n",
       "      <th>3</th>\n",
       "      <td>7.42</td>\n",
       "      <td>3.67</td>\n",
       "    </tr>\n",
       "    <tr>\n",
       "      <th>4</th>\n",
       "      <td>6.94</td>\n",
       "      <td>3.57</td>\n",
       "    </tr>\n",
       "    <tr>\n",
       "      <th>...</th>\n",
       "      <td>...</td>\n",
       "      <td>...</td>\n",
       "    </tr>\n",
       "    <tr>\n",
       "      <th>195</th>\n",
       "      <td>6.93</td>\n",
       "      <td>2.46</td>\n",
       "    </tr>\n",
       "    <tr>\n",
       "      <th>196</th>\n",
       "      <td>5.89</td>\n",
       "      <td>2.57</td>\n",
       "    </tr>\n",
       "    <tr>\n",
       "      <th>197</th>\n",
       "      <td>7.21</td>\n",
       "      <td>3.24</td>\n",
       "    </tr>\n",
       "    <tr>\n",
       "      <th>198</th>\n",
       "      <td>7.63</td>\n",
       "      <td>3.96</td>\n",
       "    </tr>\n",
       "    <tr>\n",
       "      <th>199</th>\n",
       "      <td>6.22</td>\n",
       "      <td>2.33</td>\n",
       "    </tr>\n",
       "  </tbody>\n",
       "</table>\n",
       "<p>200 rows × 2 columns</p>\n",
       "</div>"
      ],
      "text/plain": [
       "     cgpa  package\n",
       "0    6.89     3.26\n",
       "1    5.12     1.98\n",
       "2    7.82     3.25\n",
       "3    7.42     3.67\n",
       "4    6.94     3.57\n",
       "..    ...      ...\n",
       "195  6.93     2.46\n",
       "196  5.89     2.57\n",
       "197  7.21     3.24\n",
       "198  7.63     3.96\n",
       "199  6.22     2.33\n",
       "\n",
       "[200 rows x 2 columns]"
      ]
     },
     "execution_count": 91,
     "metadata": {},
     "output_type": "execute_result"
    }
   ],
   "source": [
    "df = pd.read_csv(\"placement.csv\")\n",
    "df"
   ]
  },
  {
   "cell_type": "code",
   "execution_count": 95,
   "id": "62498e08-fcf2-4fbe-98a7-6b12030d31aa",
   "metadata": {},
   "outputs": [],
   "source": [
    "X =df.iloc[:,0].values\n",
    "Y=df.iloc[:,1].values"
   ]
  },
  {
   "cell_type": "code",
   "execution_count": 97,
   "id": "7f043354-2874-4706-b85d-8c7d47112264",
   "metadata": {},
   "outputs": [],
   "source": [
    "X_train,X_test,Y_train,Y_test = train_test_split(X,Y,test_size=0.2,random_state=2)"
   ]
  },
  {
   "cell_type": "code",
   "execution_count": 99,
   "id": "03056d9d-08f4-43a6-8139-5e5db713edbb",
   "metadata": {},
   "outputs": [],
   "source": [
    "model  = Linear_Regression(learning_rate=0.01,epochs=1000)"
   ]
  },
  {
   "cell_type": "code",
   "execution_count": 101,
   "id": "0ae7d7eb-ade2-4388-b820-69fcc194bf55",
   "metadata": {},
   "outputs": [],
   "source": [
    "model.fit(X_train,Y_train)"
   ]
  },
  {
   "cell_type": "code",
   "execution_count": 103,
   "id": "81daa9a3-fd29-4b8d-aad3-efc69a1f4d1c",
   "metadata": {},
   "outputs": [
    {
     "name": "stdout",
     "output_type": "stream",
     "text": [
      "weight = 0.4722986796652954\n",
      "bais = -0.2837817343660456\n"
     ]
    }
   ],
   "source": [
    "print(\"weight =\" ,model.w[0])\n",
    "print(\"bais =\" ,model.b)"
   ]
  },
  {
   "cell_type": "code",
   "execution_count": 105,
   "id": "0f0433b2-1dc4-4d9b-9fc2-dfa22b8a3fce",
   "metadata": {},
   "outputs": [],
   "source": [
    "test_data_prediction = model.predict(X_test)"
   ]
  },
  {
   "cell_type": "code",
   "execution_count": 107,
   "id": "f50a02f8-5f89-434a-b865-f0b3ba814743",
   "metadata": {},
   "outputs": [
    {
     "name": "stdout",
     "output_type": "stream",
     "text": [
      "[3.76854094 3.09315383 2.4933345  2.65391605 1.87462323 1.97852894\n",
      " 2.22884724 2.95618721 3.65991224 2.96091019 3.93856846 3.44737783\n",
      " 2.98924812 2.50750346 3.1734446  3.40959394 2.12021855 3.22067447\n",
      " 2.9939711  3.36708706 2.63974709 3.15455265 2.89478838 3.11676876\n",
      " 3.59379043 2.90423435 3.43320887 3.30568823 3.79215587 2.13438751\n",
      " 3.5654525  3.19233655 3.64102029 2.83338955 2.82866656 3.2442894\n",
      " 3.4615468  2.68697696 2.72476086 2.77199072]\n"
     ]
    }
   ],
   "source": [
    "print(test_data_prediction)"
   ]
  },
  {
   "cell_type": "code",
   "execution_count": 109,
   "id": "166e999b-eda5-495d-87a3-63d5716d4b62",
   "metadata": {},
   "outputs": [
    {
     "data": {
      "image/png": "[encoded data removed]",
      "text/plain": [
       "<Figure size 640x480 with 1 Axes>"
      ]
     },
     "metadata": {},
     "output_type": "display_data"
    }
   ],
   "source": [
    "plt.scatter(X_test, Y_test, color = 'red')\n",
    "plt.plot(X_test, test_data_prediction, color='blue')\n",
    "plt.xlabel(' cgpa')\n",
    "plt.ylabel('pakage')\n",
    "plt.title(' cgpa vs pakage')\n",
    "plt.show()"
   ]
  },
  {
   "cell_type": "code",
   "execution_count": 111,
   "id": "836923b4-8120-4011-b506-2a9792f85f57",
   "metadata": {},
   "outputs": [
    {
     "data": {
      "text/plain": [
       "array([4.1 , 3.49, 2.08, 2.33, 1.94, 1.48, 1.86, 3.09, 4.21, 2.87, 3.65,\n",
       "       4.  , 2.89, 2.6 , 2.99, 3.25, 1.86, 3.67, 2.37, 3.42, 2.48, 3.65,\n",
       "       2.6 , 2.83, 4.08, 2.56, 3.58, 3.81, 4.09, 2.01, 3.63, 2.92, 3.51,\n",
       "       1.94, 2.21, 3.34, 3.34, 3.23, 2.01, 2.61])"
      ]
     },
     "execution_count": 111,
     "metadata": {},
     "output_type": "execute_result"
    }
   ],
   "source": [
    "Y_test"
   ]
  },
  {
   "cell_type": "code",
   "execution_count": 113,
   "id": "24046597-2d96-442e-b98a-4737fbc23a62",
   "metadata": {},
   "outputs": [
    {
     "data": {
      "text/plain": [
       "array([8.58, 7.15, 5.88, 6.22, 4.57, 4.79, 5.32, 6.86, 8.35, 6.87, 8.94,\n",
       "       7.9 , 6.93, 5.91, 7.32, 7.82, 5.09, 7.42, 6.94, 7.73, 6.19, 7.28,\n",
       "       6.73, 7.2 , 8.21, 6.75, 7.87, 7.6 , 8.63, 5.12, 8.15, 7.36, 8.31,\n",
       "       6.6 , 6.59, 7.47, 7.93, 6.29, 6.37, 6.47])"
      ]
     },
     "execution_count": 113,
     "metadata": {},
     "output_type": "execute_result"
    }
   ],
   "source": [
    "x_test"
   ]
  },
  {
   "cell_type": "code",
   "execution_count": null,
   "id": "899d648f-e406-4c93-8789-cff136a28df0",
   "metadata": {},
   "outputs": [],
   "source": []
  }
 ],
 "metadata": {
  "kernelspec": {
   "display_name": "Python [conda env:base] *",
   "language": "python",
   "name": "conda-base-py"
  },
  "language_info": {
   "codemirror_mode": {
    "name": "ipython",
    "version": 3
   },
   "file_extension": ".py",
   "mimetype": "text/x-python",
   "name": "python",
   "nbconvert_exporter": "python",
   "pygments_lexer": "ipython3",
   "version": "3.12.7"
  }
 },
 "nbformat": 4,
 "nbformat_minor": 5
}
